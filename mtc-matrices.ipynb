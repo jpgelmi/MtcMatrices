{
 "cells": [
  {
   "cell_type": "markdown",
   "metadata": {},
   "source": [
    "# Medidas de tendencia central matrices"
   ]
  },
  {
   "cell_type": "markdown",
   "metadata": {},
   "source": [
    "Create a function named calculate() in mean_var_std.py that uses Numpy to output the mean, variance, standard deviation, max, min, and sum of the rows, columns, and elements in a 3 x 3 matrix.\n",
    "\n",
    "The input of the function should be a list containing 9 digits. The function should convert the list into a 3 x 3 Numpy array, and then return a dictionary containing the mean, variance, standard deviation, max, min, and sum along both axes and for the flattened matrix."
   ]
  },
  {
   "cell_type": "code",
   "execution_count": 2,
   "metadata": {},
   "outputs": [],
   "source": [
    "import pandas as pd\n",
    "import numpy as np"
   ]
  },
  {
   "cell_type": "code",
   "execution_count": 5,
   "metadata": {},
   "outputs": [],
   "source": [
    "data_r = np.array([1,2,3,4,5,6,7,8,9], dtype=int)"
   ]
  },
  {
   "cell_type": "code",
   "execution_count": 48,
   "metadata": {},
   "outputs": [],
   "source": [
    "if len(data_r) != 9:\n",
    "    raise Exception(\"data_r tiene que contener 9 elementos\")"
   ]
  },
  {
   "cell_type": "code",
   "execution_count": 49,
   "metadata": {},
   "outputs": [],
   "source": [
    "matrix = np.reshape(data_r , (3,3))"
   ]
  },
  {
   "cell_type": "code",
   "execution_count": 64,
   "metadata": {},
   "outputs": [
    {
     "data": {
      "text/plain": [
       "array([[1, 2, 3],\n",
       "       [4, 5, 6],\n",
       "       [7, 8, 9]])"
      ]
     },
     "execution_count": 64,
     "metadata": {},
     "output_type": "execute_result"
    }
   ],
   "source": [
    "matrix"
   ]
  },
  {
   "cell_type": "code",
   "execution_count": 65,
   "metadata": {},
   "outputs": [],
   "source": [
    "data = {\n",
    "    \"media\": [[],[]],\n",
    "    \"varianza\": [[],[]],\n",
    "    \"desv_std\": [[],[]],\n",
    "    \"max\": [[],[]],\n",
    "    \"min\":[[],[]],\n",
    "    \"sum\":[[],[]]\n",
    "}"
   ]
  },
  {
   "cell_type": "code",
   "execution_count": 66,
   "metadata": {},
   "outputs": [],
   "source": [
    "def info_matrices():\n",
    "        for i in range(3):\n",
    "            data[\"media\"][0].append(round(matrix[i].mean(),2))\n",
    "            data[\"varianza\"][0].append(round(matrix[i].std()**2,2))\n",
    "            data[\"desv_std\"][0].append(round(matrix[i].std(),2))\n",
    "            data[\"max\"][0].append(round(matrix[i].max(),2))\n",
    "            data[\"min\"][0].append(round(matrix[i].min(),2))\n",
    "            data[\"sum\"][0].append(round(matrix[i].sum(),2))\n",
    "            data[\"media\"][1].append(round(matrix[:,i].mean(),2))\n",
    "            data[\"varianza\"][1].append(round(matrix[:,i].std()**2,2))\n",
    "            data[\"desv_std\"][1].append(round(matrix[:,i].std(),2))\n",
    "            data[\"max\"][1].append(round(matrix[:,i].max(),2))\n",
    "            data[\"min\"][1].append(round(matrix[:,i].min(),2))\n",
    "            data[\"sum\"][1].append(round(matrix[:,i].sum(),2))\n",
    "        data[\"media\"].append(round(data_r.mean(),2))\n",
    "        data[\"varianza\"].append(round(data_r.std()**2,2))\n",
    "        data[\"desv_std\"].append(round(data_r.std(),2))\n",
    "        data[\"max\"].append(round(data_r.max(),2))\n",
    "        data[\"min\"].append(round(data_r.min(),2))\n",
    "        data[\"sum\"].append(round(data_r.sum(),2))\n",
    "        \n",
    "\n",
    "info_matrices()"
   ]
  },
  {
   "cell_type": "code",
   "execution_count": 67,
   "metadata": {},
   "outputs": [
    {
     "data": {
      "text/plain": [
       "{'media': [[2.0, 5.0, 8.0], [4.0, 5.0, 6.0], 5.0],\n",
       " 'varianza': [[0.67, 0.67, 0.67], [6.0, 6.0, 6.0], 6.67],\n",
       " 'desv_std': [[0.82, 0.82, 0.82], [2.45, 2.45, 2.45], 2.58],\n",
       " 'max': [[3, 6, 9], [7, 8, 9], 9],\n",
       " 'min': [[1, 4, 7], [1, 2, 3], 1],\n",
       " 'sum': [[6, 15, 24], [12, 15, 18], 45]}"
      ]
     },
     "execution_count": 67,
     "metadata": {},
     "output_type": "execute_result"
    }
   ],
   "source": [
    "data"
   ]
  },
  {
   "cell_type": "code",
   "execution_count": 73,
   "metadata": {},
   "outputs": [],
   "source": [
    "dataFrame = pd.DataFrame(data , index = [\"filas\", \"columnas\", \"total\"])"
   ]
  },
  {
   "cell_type": "code",
   "execution_count": 74,
   "metadata": {},
   "outputs": [
    {
     "data": {
      "text/html": [
       "<div>\n",
       "<style scoped>\n",
       "    .dataframe tbody tr th:only-of-type {\n",
       "        vertical-align: middle;\n",
       "    }\n",
       "\n",
       "    .dataframe tbody tr th {\n",
       "        vertical-align: top;\n",
       "    }\n",
       "\n",
       "    .dataframe thead th {\n",
       "        text-align: right;\n",
       "    }\n",
       "</style>\n",
       "<table border=\"1\" class=\"dataframe\">\n",
       "  <thead>\n",
       "    <tr style=\"text-align: right;\">\n",
       "      <th></th>\n",
       "      <th>media</th>\n",
       "      <th>varianza</th>\n",
       "      <th>desv_std</th>\n",
       "      <th>max</th>\n",
       "      <th>min</th>\n",
       "      <th>sum</th>\n",
       "    </tr>\n",
       "  </thead>\n",
       "  <tbody>\n",
       "    <tr>\n",
       "      <th>filas</th>\n",
       "      <td>[2.0, 5.0, 8.0]</td>\n",
       "      <td>[0.67, 0.67, 0.67]</td>\n",
       "      <td>[0.82, 0.82, 0.82]</td>\n",
       "      <td>[3, 6, 9]</td>\n",
       "      <td>[1, 4, 7]</td>\n",
       "      <td>[6, 15, 24]</td>\n",
       "    </tr>\n",
       "    <tr>\n",
       "      <th>columnas</th>\n",
       "      <td>[4.0, 5.0, 6.0]</td>\n",
       "      <td>[6.0, 6.0, 6.0]</td>\n",
       "      <td>[2.45, 2.45, 2.45]</td>\n",
       "      <td>[7, 8, 9]</td>\n",
       "      <td>[1, 2, 3]</td>\n",
       "      <td>[12, 15, 18]</td>\n",
       "    </tr>\n",
       "    <tr>\n",
       "      <th>total</th>\n",
       "      <td>5</td>\n",
       "      <td>6.67</td>\n",
       "      <td>2.58</td>\n",
       "      <td>9</td>\n",
       "      <td>1</td>\n",
       "      <td>45</td>\n",
       "    </tr>\n",
       "  </tbody>\n",
       "</table>\n",
       "</div>"
      ],
      "text/plain": [
       "                    media            varianza            desv_std        max  \\\n",
       "filas     [2.0, 5.0, 8.0]  [0.67, 0.67, 0.67]  [0.82, 0.82, 0.82]  [3, 6, 9]   \n",
       "columnas  [4.0, 5.0, 6.0]     [6.0, 6.0, 6.0]  [2.45, 2.45, 2.45]  [7, 8, 9]   \n",
       "total                   5                6.67                2.58          9   \n",
       "\n",
       "                min           sum  \n",
       "filas     [1, 4, 7]   [6, 15, 24]  \n",
       "columnas  [1, 2, 3]  [12, 15, 18]  \n",
       "total             1            45  "
      ]
     },
     "execution_count": 74,
     "metadata": {},
     "output_type": "execute_result"
    }
   ],
   "source": [
    "dataFrame"
   ]
  }
 ],
 "metadata": {
  "kernelspec": {
   "display_name": "Python 3",
   "language": "python",
   "name": "python3"
  },
  "language_info": {
   "codemirror_mode": {
    "name": "ipython",
    "version": 3
   },
   "file_extension": ".py",
   "mimetype": "text/x-python",
   "name": "python",
   "nbconvert_exporter": "python",
   "pygments_lexer": "ipython3",
   "version": "3.8.3"
  }
 },
 "nbformat": 4,
 "nbformat_minor": 4
}
